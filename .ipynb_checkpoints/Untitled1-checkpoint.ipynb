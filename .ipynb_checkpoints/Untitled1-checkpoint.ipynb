{
 "cells": [
  {
   "cell_type": "code",
   "execution_count": 2,
   "id": "83a2defd-704e-4bbf-ad8f-4688ea50f2aa",
   "metadata": {},
   "outputs": [],
   "source": [
    "import pyaudio\n",
    "import numpy as np"
   ]
  },
  {
   "cell_type": "code",
   "execution_count": 3,
   "id": "a5818af0-fe72-46ec-b528-0389015dec5b",
   "metadata": {},
   "outputs": [
    {
     "name": "stdout",
     "output_type": "stream",
     "text": [
      "DEVICE: 마이크 (Realtek HD Audio Mic input), INDEX: 0, RATE: 44100 \n",
      "DEVICE: 라인 입력 (Realtek HD Audio Line input), INDEX: 1, RATE: 44100 \n",
      "DEVICE: 스테레오 믹스 (Realtek HD Audio Stereo input), INDEX: 2, RATE: 44100 \n",
      "DEVICE: Headphones (Realtek HD Audio 2nd output), INDEX: 3, RATE: 44100 \n"
     ]
    }
   ],
   "source": [
    "audio = pyaudio.PyAudio()\n",
    "\n",
    "for index in range(audio.get_device_count()):\n",
    "    desc = audio.get_device_info_by_index(index)\n",
    "    print(\"DEVICE: {device}, INDEX: {index}, RATE: {rate} \".format(\n",
    "        device=desc[\"name\"], index=index, rate=int(desc[\"defaultSampleRate\"])))"
   ]
  },
  {
   "cell_type": "code",
   "execution_count": null,
   "id": "e19ce9e7-a916-478f-b4eb-83ca47d82afd",
   "metadata": {},
   "outputs": [],
   "source": [
    "CHUNK = 160       \n",
    "FORMAT = pyaudio.paInt16  \n",
    "CHANNELS = 1          \n",
    "RATE = 16000"
   ]
  }
 ],
 "metadata": {
  "kernelspec": {
   "display_name": "Python 3 (ipykernel)",
   "language": "python",
   "name": "python3"
  },
  "language_info": {
   "codemirror_mode": {
    "name": "ipython",
    "version": 3
   },
   "file_extension": ".py",
   "mimetype": "text/x-python",
   "name": "python",
   "nbconvert_exporter": "python",
   "pygments_lexer": "ipython3",
   "version": "3.10.11"
  }
 },
 "nbformat": 4,
 "nbformat_minor": 5
}
