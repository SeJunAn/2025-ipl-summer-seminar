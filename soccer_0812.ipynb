{
 "cells": [
  {
   "cell_type": "markdown",
   "id": "414aa385-9655-47ec-b4b4-43afba31c73f",
   "metadata": {},
   "source": [
    "<h1>맨체스터 유나이티드 분석</h1>"
   ]
  },
  {
   "cell_type": "markdown",
   "id": "de3d523a-39da-49ed-af94-3b3db396ed3e",
   "metadata": {},
   "source": [
    "<h2>ELO 분석 - 맨체스터 유나이티드</h2>"
   ]
  },
  {
   "cell_type": "code",
   "execution_count": 1,
   "id": "049238a8-4ca7-4186-a386-de6c1ec55c98",
   "metadata": {},
   "outputs": [],
   "source": [
    "import pandas as pd\n",
    "import numpy as np"
   ]
  },
  {
   "cell_type": "code",
   "execution_count": 3,
   "id": "6c34bb73-50bd-4bcd-998a-052967f892f9",
   "metadata": {},
   "outputs": [],
   "source": [
    "temp = pd.read_csv(\"C:\\\\Users\\\\ipl1\\\\Desktop\\\\IPL\\\\세미나(25하계)\\\\data\\\\EloRatings.csv\")"
   ]
  },
  {
   "cell_type": "code",
   "execution_count": 6,
   "id": "eb8cf671-62da-4590-8e5f-a93db9c5007b",
   "metadata": {},
   "outputs": [
    {
     "data": {
      "text/html": [
       "<div>\n",
       "<style scoped>\n",
       "    .dataframe tbody tr th:only-of-type {\n",
       "        vertical-align: middle;\n",
       "    }\n",
       "\n",
       "    .dataframe tbody tr th {\n",
       "        vertical-align: top;\n",
       "    }\n",
       "\n",
       "    .dataframe thead th {\n",
       "        text-align: right;\n",
       "    }\n",
       "</style>\n",
       "<table border=\"1\" class=\"dataframe\">\n",
       "  <thead>\n",
       "    <tr style=\"text-align: right;\">\n",
       "      <th></th>\n",
       "      <th>date</th>\n",
       "      <th>club</th>\n",
       "      <th>country</th>\n",
       "      <th>elo</th>\n",
       "    </tr>\n",
       "  </thead>\n",
       "  <tbody>\n",
       "    <tr>\n",
       "      <th>0</th>\n",
       "      <td>2000-07-01</td>\n",
       "      <td>Aachen</td>\n",
       "      <td>GER</td>\n",
       "      <td>1453.60</td>\n",
       "    </tr>\n",
       "    <tr>\n",
       "      <th>1</th>\n",
       "      <td>2000-07-01</td>\n",
       "      <td>Aalborg</td>\n",
       "      <td>DEN</td>\n",
       "      <td>1482.61</td>\n",
       "    </tr>\n",
       "    <tr>\n",
       "      <th>2</th>\n",
       "      <td>2000-07-01</td>\n",
       "      <td>Aalst</td>\n",
       "      <td>BEL</td>\n",
       "      <td>1337.53</td>\n",
       "    </tr>\n",
       "    <tr>\n",
       "      <th>3</th>\n",
       "      <td>2000-07-01</td>\n",
       "      <td>Aarhus</td>\n",
       "      <td>DEN</td>\n",
       "      <td>1381.46</td>\n",
       "    </tr>\n",
       "    <tr>\n",
       "      <th>4</th>\n",
       "      <td>2000-07-01</td>\n",
       "      <td>Aberdeen</td>\n",
       "      <td>SCO</td>\n",
       "      <td>1360.43</td>\n",
       "    </tr>\n",
       "    <tr>\n",
       "      <th>5</th>\n",
       "      <td>2000-07-01</td>\n",
       "      <td>Adanaspor</td>\n",
       "      <td>TUR</td>\n",
       "      <td>1380.76</td>\n",
       "    </tr>\n",
       "    <tr>\n",
       "      <th>6</th>\n",
       "      <td>2000-07-01</td>\n",
       "      <td>AEK</td>\n",
       "      <td>GRE</td>\n",
       "      <td>1599.31</td>\n",
       "    </tr>\n",
       "    <tr>\n",
       "      <th>7</th>\n",
       "      <td>2000-07-01</td>\n",
       "      <td>AIK</td>\n",
       "      <td>SWE</td>\n",
       "      <td>1563.87</td>\n",
       "    </tr>\n",
       "    <tr>\n",
       "      <th>8</th>\n",
       "      <td>2000-07-01</td>\n",
       "      <td>Ajaccio</td>\n",
       "      <td>FRA</td>\n",
       "      <td>1470.87</td>\n",
       "    </tr>\n",
       "    <tr>\n",
       "      <th>9</th>\n",
       "      <td>2000-07-01</td>\n",
       "      <td>Ajax</td>\n",
       "      <td>NED</td>\n",
       "      <td>1604.75</td>\n",
       "    </tr>\n",
       "  </tbody>\n",
       "</table>\n",
       "</div>"
      ],
      "text/plain": [
       "         date       club country      elo\n",
       "0  2000-07-01     Aachen     GER  1453.60\n",
       "1  2000-07-01    Aalborg     DEN  1482.61\n",
       "2  2000-07-01      Aalst     BEL  1337.53\n",
       "3  2000-07-01     Aarhus     DEN  1381.46\n",
       "4  2000-07-01   Aberdeen     SCO  1360.43\n",
       "5  2000-07-01  Adanaspor     TUR  1380.76\n",
       "6  2000-07-01        AEK     GRE  1599.31\n",
       "7  2000-07-01        AIK     SWE  1563.87\n",
       "8  2000-07-01    Ajaccio     FRA  1470.87\n",
       "9  2000-07-01       Ajax     NED  1604.75"
      ]
     },
     "execution_count": 6,
     "metadata": {},
     "output_type": "execute_result"
    }
   ],
   "source": [
    "temp.head(10)"
   ]
  },
  {
   "cell_type": "code",
   "execution_count": 18,
   "id": "0cda746e-617f-4dbf-bba1-a4a56ca8f5ce",
   "metadata": {},
   "outputs": [],
   "source": [
    "mu_df = temp[temp['club'] == 'Man United']"
   ]
  },
  {
   "cell_type": "code",
   "execution_count": 26,
   "id": "84806fc1-8b6d-4af8-aeea-e9e15f211044",
   "metadata": {},
   "outputs": [
    {
     "name": "stdout",
     "output_type": "stream",
     "text": [
      "(599, 4)\n",
      "==============\n",
      "              date        club country      elo\n",
      "241196  2025-01-15  Man United     ENG  1763.57\n",
      "241603  2025-02-01  Man United     ENG  1773.39\n",
      "242010  2025-02-15  Man United     ENG  1757.62\n",
      "242417  2025-03-01  Man United     ENG  1753.38\n",
      "242824  2025-03-15  Man United     ENG  1785.17\n",
      "243231  2025-04-01  Man United     ENG  1793.30\n",
      "243638  2025-04-15  Man United     ENG  1784.00\n",
      "244045  2025-05-01  Man United     ENG  1785.17\n",
      "244452  2025-05-15  Man United     ENG  1797.14\n",
      "244859  2025-06-01  Man United     ENG  1799.46\n"
     ]
    }
   ],
   "source": [
    "print(mu_elo.shape)\n",
    "print(\"==============\")\n",
    "print(mu_elo.tail(10))"
   ]
  },
  {
   "cell_type": "code",
   "execution_count": 16,
   "id": "f7078664-ce6e-4525-ab4b-798caba0e880",
   "metadata": {},
   "outputs": [],
   "source": [
    "import matplotlib.pyplot as plt"
   ]
  },
  {
   "cell_type": "code",
   "execution_count": 31,
   "id": "4ec9c820-bb25-48fd-8d27-0e80e4370fa7",
   "metadata": {},
   "outputs": [
    {
     "data": {
      "image/png": "[encoded data removed]",
      "text/plain": [
       "<Figure size 1000x500 with 1 Axes>"
      ]
     },
     "metadata": {},
     "output_type": "display_data"
    }
   ],
   "source": [
    "import matplotlib.pyplot as plt\n",
    "import matplotlib.dates as mdates\n",
    "\n",
    "mu_df[\"date\"] = pd.to_datetime(mu_df[\"date\"])\n",
    "mu_df = mu_df.dropna(subset=[\"date\", \"elo\"])\n",
    "\n",
    "fig, ax = plt.subplots(figsize=(10,5))\n",
    "ax.plot(mu_df[\"date\"], mu_df[\"elo\"], linewidth=1)\n",
    "\n",
    "ax.xaxis.set_major_locator(mdates.YearLocator(base=1))\n",
    "ax.xaxis.set_major_formatter(mdates.DateFormatter(\"%Y\"))\n",
    "\n",
    "ax.set_xlabel(\"Year\")\n",
    "ax.set_ylabel(\"Elo\")\n",
    "\n",
    "plt.xticks(rotation=45)\n",
    "plt.tight_layout()\n",
    "plt.show()"
   ]
  },
  {
   "cell_type": "markdown",
   "id": "1642ad57-734b-410b-a310-eb72b7526501",
   "metadata": {},
   "source": [
    "<h2>주요 스텟 - Matches.csv</h2>"
   ]
  },
  {
   "cell_type": "code",
   "execution_count": 32,
   "id": "b411f7b3-6bf7-471e-a47a-4ff579a9854d",
   "metadata": {},
   "outputs": [
    {
     "name": "stderr",
     "output_type": "stream",
     "text": [
      "C:\\Users\\ipl1\\AppData\\Local\\Temp\\ipykernel_1288\\1339039892.py:1: DtypeWarning: Columns (2) have mixed types. Specify dtype option on import or set low_memory=False.\n",
      "  df = pd.read_csv(\"C:\\\\Users\\\\ipl1\\\\Desktop\\\\IPL\\\\세미나(25하계)\\\\data\\\\Matches.csv\")\n"
     ]
    }
   ],
   "source": [
    "df = pd.read_csv(\"C:\\\\Users\\\\ipl1\\\\Desktop\\\\IPL\\\\세미나(25하계)\\\\data\\\\Matches.csv\")"
   ]
  },
  {
   "cell_type": "code",
   "execution_count": 35,
   "id": "ecec6226-7fdc-41ab-b39f-298f815d122d",
   "metadata": {},
   "outputs": [],
   "source": [
    "df = df.dropna()"
   ]
  },
  {
   "cell_type": "code",
   "execution_count": 37,
   "id": "89a15830-5836-4f24-9e62-e68408f18782",
   "metadata": {},
   "outputs": [
    {
     "data": {
      "text/html": [
       "<div>\n",
       "<style scoped>\n",
       "    .dataframe tbody tr th:only-of-type {\n",
       "        vertical-align: middle;\n",
       "    }\n",
       "\n",
       "    .dataframe tbody tr th {\n",
       "        vertical-align: top;\n",
       "    }\n",
       "\n",
       "    .dataframe thead th {\n",
       "        text-align: right;\n",
       "    }\n",
       "</style>\n",
       "<table border=\"1\" class=\"dataframe\">\n",
       "  <thead>\n",
       "    <tr style=\"text-align: right;\">\n",
       "      <th></th>\n",
       "      <th>Division</th>\n",
       "      <th>MatchDate</th>\n",
       "      <th>MatchTime</th>\n",
       "      <th>HomeTeam</th>\n",
       "      <th>AwayTeam</th>\n",
       "      <th>HomeElo</th>\n",
       "      <th>AwayElo</th>\n",
       "      <th>Form3Home</th>\n",
       "      <th>Form5Home</th>\n",
       "      <th>Form3Away</th>\n",
       "      <th>...</th>\n",
       "      <th>MaxUnder25</th>\n",
       "      <th>HandiSize</th>\n",
       "      <th>HandiHome</th>\n",
       "      <th>HandiAway</th>\n",
       "      <th>C_LTH</th>\n",
       "      <th>C_LTA</th>\n",
       "      <th>C_VHD</th>\n",
       "      <th>C_VAD</th>\n",
       "      <th>C_HTB</th>\n",
       "      <th>C_PHB</th>\n",
       "    </tr>\n",
       "  </thead>\n",
       "  <tbody>\n",
       "    <tr>\n",
       "      <th>230552</th>\n",
       "      <td>SP2</td>\n",
       "      <td>2025-06-01</td>\n",
       "      <td>17:30:00</td>\n",
       "      <td>Cartagena</td>\n",
       "      <td>Mirandes</td>\n",
       "      <td>1339.21</td>\n",
       "      <td>1544.15</td>\n",
       "      <td>3.0</td>\n",
       "      <td>6.0</td>\n",
       "      <td>7.0</td>\n",
       "      <td>...</td>\n",
       "      <td>2.40</td>\n",
       "      <td>1.8</td>\n",
       "      <td>1.95</td>\n",
       "      <td>1.85</td>\n",
       "      <td>0.0209</td>\n",
       "      <td>0.0118</td>\n",
       "      <td>0.0099</td>\n",
       "      <td>0.8084</td>\n",
       "      <td>0.1386</td>\n",
       "      <td>0.0104</td>\n",
       "    </tr>\n",
       "    <tr>\n",
       "      <th>230553</th>\n",
       "      <td>SP2</td>\n",
       "      <td>2025-06-01</td>\n",
       "      <td>17:30:00</td>\n",
       "      <td>Almeria</td>\n",
       "      <td>Tenerife</td>\n",
       "      <td>1544.16</td>\n",
       "      <td>1433.67</td>\n",
       "      <td>4.0</td>\n",
       "      <td>10.0</td>\n",
       "      <td>1.0</td>\n",
       "      <td>...</td>\n",
       "      <td>2.55</td>\n",
       "      <td>-1.8</td>\n",
       "      <td>1.80</td>\n",
       "      <td>2.00</td>\n",
       "      <td>0.3799</td>\n",
       "      <td>0.0630</td>\n",
       "      <td>0.2806</td>\n",
       "      <td>0.0160</td>\n",
       "      <td>0.2332</td>\n",
       "      <td>0.0274</td>\n",
       "    </tr>\n",
       "    <tr>\n",
       "      <th>230554</th>\n",
       "      <td>SP2</td>\n",
       "      <td>2025-06-01</td>\n",
       "      <td>17:30:00</td>\n",
       "      <td>La Coruna</td>\n",
       "      <td>Elche</td>\n",
       "      <td>1473.67</td>\n",
       "      <td>1569.98</td>\n",
       "      <td>0.0</td>\n",
       "      <td>3.0</td>\n",
       "      <td>3.0</td>\n",
       "      <td>...</td>\n",
       "      <td>2.63</td>\n",
       "      <td>1.3</td>\n",
       "      <td>1.78</td>\n",
       "      <td>2.03</td>\n",
       "      <td>0.0224</td>\n",
       "      <td>0.7482</td>\n",
       "      <td>0.0100</td>\n",
       "      <td>0.1201</td>\n",
       "      <td>0.0180</td>\n",
       "      <td>0.0813</td>\n",
       "    </tr>\n",
       "    <tr>\n",
       "      <th>230555</th>\n",
       "      <td>SP2</td>\n",
       "      <td>2025-06-01</td>\n",
       "      <td>17:30:00</td>\n",
       "      <td>Oviedo</td>\n",
       "      <td>Cadiz</td>\n",
       "      <td>1574.90</td>\n",
       "      <td>1525.76</td>\n",
       "      <td>7.0</td>\n",
       "      <td>13.0</td>\n",
       "      <td>6.0</td>\n",
       "      <td>...</td>\n",
       "      <td>1.51</td>\n",
       "      <td>-0.8</td>\n",
       "      <td>1.95</td>\n",
       "      <td>1.85</td>\n",
       "      <td>0.2070</td>\n",
       "      <td>0.2490</td>\n",
       "      <td>0.2334</td>\n",
       "      <td>0.0211</td>\n",
       "      <td>0.2634</td>\n",
       "      <td>0.0261</td>\n",
       "    </tr>\n",
       "    <tr>\n",
       "      <th>230556</th>\n",
       "      <td>SP2</td>\n",
       "      <td>2025-06-01</td>\n",
       "      <td>20:00:00</td>\n",
       "      <td>Cordoba</td>\n",
       "      <td>Albacete</td>\n",
       "      <td>1468.40</td>\n",
       "      <td>1495.25</td>\n",
       "      <td>0.0</td>\n",
       "      <td>4.0</td>\n",
       "      <td>6.0</td>\n",
       "      <td>...</td>\n",
       "      <td>2.70</td>\n",
       "      <td>-1.0</td>\n",
       "      <td>2.00</td>\n",
       "      <td>1.80</td>\n",
       "      <td>0.0191</td>\n",
       "      <td>0.0203</td>\n",
       "      <td>0.0937</td>\n",
       "      <td>0.0164</td>\n",
       "      <td>0.8251</td>\n",
       "      <td>0.0254</td>\n",
       "    </tr>\n",
       "  </tbody>\n",
       "</table>\n",
       "<p>5 rows × 48 columns</p>\n",
       "</div>"
      ],
      "text/plain": [
       "       Division   MatchDate MatchTime   HomeTeam  AwayTeam  HomeElo  AwayElo  \\\n",
       "230552      SP2  2025-06-01  17:30:00  Cartagena  Mirandes  1339.21  1544.15   \n",
       "230553      SP2  2025-06-01  17:30:00    Almeria  Tenerife  1544.16  1433.67   \n",
       "230554      SP2  2025-06-01  17:30:00  La Coruna     Elche  1473.67  1569.98   \n",
       "230555      SP2  2025-06-01  17:30:00     Oviedo     Cadiz  1574.90  1525.76   \n",
       "230556      SP2  2025-06-01  20:00:00    Cordoba  Albacete  1468.40  1495.25   \n",
       "\n",
       "        Form3Home  Form5Home  Form3Away  ...  MaxUnder25  HandiSize  \\\n",
       "230552        3.0        6.0        7.0  ...        2.40        1.8   \n",
       "230553        4.0       10.0        1.0  ...        2.55       -1.8   \n",
       "230554        0.0        3.0        3.0  ...        2.63        1.3   \n",
       "230555        7.0       13.0        6.0  ...        1.51       -0.8   \n",
       "230556        0.0        4.0        6.0  ...        2.70       -1.0   \n",
       "\n",
       "        HandiHome HandiAway   C_LTH   C_LTA   C_VHD   C_VAD   C_HTB   C_PHB  \n",
       "230552       1.95      1.85  0.0209  0.0118  0.0099  0.8084  0.1386  0.0104  \n",
       "230553       1.80      2.00  0.3799  0.0630  0.2806  0.0160  0.2332  0.0274  \n",
       "230554       1.78      2.03  0.0224  0.7482  0.0100  0.1201  0.0180  0.0813  \n",
       "230555       1.95      1.85  0.2070  0.2490  0.2334  0.0211  0.2634  0.0261  \n",
       "230556       2.00      1.80  0.0191  0.0203  0.0937  0.0164  0.8251  0.0254  \n",
       "\n",
       "[5 rows x 48 columns]"
      ]
     },
     "execution_count": 37,
     "metadata": {},
     "output_type": "execute_result"
    }
   ],
   "source": [
    "df.tail()"
   ]
  },
  {
   "cell_type": "code",
   "execution_count": null,
   "id": "4fd215c0-23f9-40cc-addf-f1024dc1af84",
   "metadata": {},
   "outputs": [],
   "source": []
  }
 ],
 "metadata": {
  "kernelspec": {
   "display_name": "Python 3 (ipykernel)",
   "language": "python",
   "name": "python3"
  },
  "language_info": {
   "codemirror_mode": {
    "name": "ipython",
    "version": 3
   },
   "file_extension": ".py",
   "mimetype": "text/x-python",
   "name": "python",
   "nbconvert_exporter": "python",
   "pygments_lexer": "ipython3",
   "version": "3.10.11"
  }
 },
 "nbformat": 4,
 "nbformat_minor": 5
}
