{
 "cells": [
  {
   "cell_type": "code",
   "execution_count": 1,
   "id": "049238a8-4ca7-4186-a386-de6c1ec55c98",
   "metadata": {},
   "outputs": [
    {
     "name": "stderr",
     "output_type": "stream",
     "text": [
      "warning: in the working copy of '.ipynb_checkpoints/soccer_0812-checkpoint.ipynb', LF will be replaced by CRLF the next time Git touches it\n",
      "warning: in the working copy of 'soccer_0812.ipynb', LF will be replaced by CRLF the next time Git touches it\n"
     ]
    }
   ],
   "source": [
    "!git add ."
   ]
  },
  {
   "cell_type": "code",
   "execution_count": 2,
   "id": "b34cd9da-003f-435d-9606-abd1278032f9",
   "metadata": {},
   "outputs": [
    {
     "name": "stdout",
     "output_type": "stream",
     "text": [
      "[main 4ead038] commit test\n",
      " 4 files changed, 102 insertions(+), 312 deletions(-)\n",
      " delete mode 100644 .ipynb_checkpoints/Untitled-checkpoint.ipynb\n",
      " create mode 100644 .ipynb_checkpoints/soccer_0812-checkpoint.ipynb\n",
      " delete mode 100644 Untitled.ipynb\n",
      " create mode 100644 soccer_0812.ipynb\n"
     ]
    }
   ],
   "source": [
    "!git commit -m \"commit test\""
   ]
  },
  {
   "cell_type": "code",
   "execution_count": 8,
   "id": "2be1c17b-d544-4786-bae2-88b0ac4a7b69",
   "metadata": {},
   "outputs": [
    {
     "name": "stderr",
     "output_type": "stream",
     "text": [
      "fatal: Unable to persist credentials with the 'wincredman' credential store.\n",
      "See https://aka.ms/gcm/credstores for more information.\n",
      "bash: line 1: /dev/tty: No such device or address\n",
      "error: failed to execute prompt script (exit code 1)\n",
      "fatal: could not read Username for 'https://github.com': No such file or directory\n"
     ]
    }
   ],
   "source": [
    "!git push origin main"
   ]
  },
  {
   "cell_type": "code",
   "execution_count": null,
   "id": "cc8e5985-d1f9-49fb-8345-783788d6321a",
   "metadata": {},
   "outputs": [],
   "source": [
    "print(\"commit tes123t\")"
   ]
  }
 ],
 "metadata": {
  "kernelspec": {
   "display_name": "Python 3 (ipykernel)",
   "language": "python",
   "name": "python3"
  },
  "language_info": {
   "codemirror_mode": {
    "name": "ipython",
    "version": 3
   },
   "file_extension": ".py",
   "mimetype": "text/x-python",
   "name": "python",
   "nbconvert_exporter": "python",
   "pygments_lexer": "ipython3",
   "version": "3.10.11"
  }
 },
 "nbformat": 4,
 "nbformat_minor": 5
}
